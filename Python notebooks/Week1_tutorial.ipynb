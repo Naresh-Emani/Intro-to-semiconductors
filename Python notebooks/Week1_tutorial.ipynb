{
 "cells": [
  {
   "cell_type": "markdown",
   "metadata": {},
   "source": [
    "# Evaluation of wave functions and eigen values in infinite  and finite potential wells\n",
    "\n",
    "***\n",
    "\n",
    "Adapted from M N Srnec, A Python Program for Solving Schrödinger’s Equation in Undergraduate Physical Chemistry, J. Chem. Educ, 94 (2017). Please refer to https://doi.org/10.1021/acs.jchemed.7b00003 for additional exercises.\n",
    "\n",
    "***"
   ]
  },
  {
   "cell_type": "markdown",
   "metadata": {},
   "source": [
    "\n"
   ]
  },
  {
   "cell_type": "markdown",
   "metadata": {},
   "source": [
    "## 1.1 Infinite potential well\n",
    "\n",
    "This is an interactive notebook to understand how the eigen wave functions and eigen values of an infinite potential well vary with the width of the well.\n",
    "* **W** $\\Rightarrow$ width of well\n",
    "* **n** $\\Rightarrow$ number of eigenvalues\n"
   ]
  },
  {
   "cell_type": "code",
   "execution_count": 1,
   "metadata": {},
   "outputs": [
    {
     "data": {
      "application/vnd.jupyter.widget-view+json": {
       "model_id": "d26c72a9e51c49ad90809d9b3a4412e3",
       "version_major": 2,
       "version_minor": 0
      },
      "text/plain": [
       "interactive(children=(IntSlider(value=3, description='W', max=5, min=1), IntSlider(value=4, description='n', m…"
      ]
     },
     "metadata": {},
     "output_type": "display_data"
    },
    {
     "data": {
      "text/plain": [
       "<function utils.inf_well(W, n)>"
      ]
     },
     "execution_count": 1,
     "metadata": {},
     "output_type": "execute_result"
    }
   ],
   "source": [
    "%matplotlib notebook\n",
    "%matplotlib inline\n",
    "%run utils.py\n",
    "from utils import *\n",
    "plt.rcParams['figure.figsize']=(5,4)\n",
    "plt.rcParams['figure.dpi']=150\n",
    "interact(inf_well,W=(1,5,1),n=(1,8,1))"
   ]
  },
  {
   "cell_type": "markdown",
   "metadata": {},
   "source": [
    "## 1.2 Finite potential well\n",
    "\n",
    "This is an interactive notebook to understand how the eigen wave functions and eigen values of a finite potential well vary with the width of the well and depth of the potential barrier.\n",
    "* **A** $\\Rightarrow$ width of well\n",
    "* **D** $\\Rightarrow$ potential depth"
   ]
  },
  {
   "cell_type": "code",
   "execution_count": 2,
   "metadata": {},
   "outputs": [
    {
     "data": {
      "application/vnd.jupyter.widget-view+json": {
       "model_id": "ef5e2cdda83945558532182165afc72e",
       "version_major": 2,
       "version_minor": 0
      },
      "text/plain": [
       "interactive(children=(IntSlider(value=2, description='A', max=4, min=1), IntSlider(value=30, description='D', …"
      ]
     },
     "metadata": {},
     "output_type": "display_data"
    },
    {
     "data": {
      "text/plain": [
       "<function utils.fin_well(A, D)>"
      ]
     },
     "execution_count": 2,
     "metadata": {},
     "output_type": "execute_result"
    }
   ],
   "source": [
    " interact(fin_well,A=(1,4,1),D=(20,40,10))"
   ]
  },
  {
   "cell_type": "markdown",
   "metadata": {},
   "source": [
    "## 1.3 Self assessment test\n",
    "***\n",
    "Try checking a **self assessment quiz** at the bottom to understand...\n",
    "\n",
    "* What is the physical interpretation of an eigen value and eigen function for an electron in a well?\n",
    "* How many bound eigen functions can be supported by a given width of an infinite potential well?\n",
    "* How do wavefunctions look like with increasing eigen value/eigen energy?\n",
    "* How does the probability of finding an electron of given eigen energy evolve with the corresponding eigen function?\n",
    "* How does the energy spacing between adjacent eigen energies change with the width of the well?\n",
    "\n",
    "***"
   ]
  },
  {
   "cell_type": "code",
   "execution_count": 3,
   "metadata": {},
   "outputs": [
    {
     "data": {
      "application/vnd.jupyter.widget-view+json": {
       "model_id": "11ccfadc4a364c0d8692e5a4060e6fdf",
       "version_major": 2,
       "version_minor": 0
      },
      "text/plain": [
       "VBox(children=(Output(), RadioButtons(options=(('continuous', 0), ('discrete', 1), ('Insufficient data', 2)), …"
      ]
     },
     "metadata": {},
     "output_type": "display_data"
    },
    {
     "data": {
      "application/vnd.jupyter.widget-view+json": {
       "model_id": "abc851a66253431ebdcfd3ea0aa2adc9",
       "version_major": 2,
       "version_minor": 0
      },
      "text/plain": [
       "VBox(children=(Output(), RadioButtons(options=(('True', 0), ('False', 1), ('Insufficient data', 2)), value=0),…"
      ]
     },
     "metadata": {},
     "output_type": "display_data"
    },
    {
     "data": {
      "application/vnd.jupyter.widget-view+json": {
       "model_id": "9b34dbbf6e1f4c898bd4dfd45dbca77b",
       "version_major": 2,
       "version_minor": 0
      },
      "text/plain": [
       "VBox(children=(Output(), RadioButtons(options=(('4.925, 2.189, 0.547', 0), ('0.547,2.189,4.925', 1), ('2.189, …"
      ]
     },
     "metadata": {},
     "output_type": "display_data"
    },
    {
     "data": {
      "application/vnd.jupyter.widget-view+json": {
       "model_id": "4269fef9000f43ec80e24daf6d6144b3",
       "version_major": 2,
       "version_minor": 0
      },
      "text/plain": [
       "VBox(children=(Output(), RadioButtons(options=(('lowest', 0), ('highest', 1), ('cannot determine', 2)), value=…"
      ]
     },
     "metadata": {},
     "output_type": "display_data"
    },
    {
     "data": {
      "application/vnd.jupyter.widget-view+json": {
       "model_id": "4980058564244ad79d82ac6f676e9b72",
       "version_major": 2,
       "version_minor": 0
      },
      "text/plain": [
       "VBox(children=(Output(), RadioButtons(options=(('14.775 and 3.694', 0), ('39.399 and 9.85', 1), ('24.624 and 6…"
      ]
     },
     "metadata": {},
     "output_type": "display_data"
    },
    {
     "data": {
      "application/vnd.jupyter.widget-view+json": {
       "model_id": "170e4f9277c448fb9b92e86e5ebf5847",
       "version_major": 2,
       "version_minor": 0
      },
      "text/plain": [
       "VBox(children=(Output(), RadioButtons(options=(('decreases linearly', 0), ('increases quadratically', 1), ('de…"
      ]
     },
     "metadata": {},
     "output_type": "display_data"
    }
   ],
   "source": [
    "quiz()"
   ]
  },
  {
   "cell_type": "code",
   "execution_count": null,
   "metadata": {},
   "outputs": [],
   "source": []
  }
 ],
 "metadata": {
  "kernelspec": {
   "display_name": "Python 3 (ipykernel)",
   "language": "python",
   "name": "python3"
  },
  "language_info": {
   "codemirror_mode": {
    "name": "ipython",
    "version": 3
   },
   "file_extension": ".py",
   "mimetype": "text/x-python",
   "name": "python",
   "nbconvert_exporter": "python",
   "pygments_lexer": "ipython3",
   "version": "3.9.7"
  }
 },
 "nbformat": 4,
 "nbformat_minor": 4
}
